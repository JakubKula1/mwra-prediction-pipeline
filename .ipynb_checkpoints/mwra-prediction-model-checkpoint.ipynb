{
 "cells": [
  {
   "cell_type": "markdown",
   "id": "0dbc9323-d4b1-451d-b72d-f66f5a33a27d",
   "metadata": {},
   "source": [
    "# Malware Related Activity Prediction Pipeline"
   ]
  },
  {
   "cell_type": "markdown",
   "id": "b214e4a4-fabb-4f46-b222-2e1b120903b2",
   "metadata": {},
   "source": [
    "#### Imports and Data Load"
   ]
  },
  {
   "cell_type": "code",
   "execution_count": 11,
   "id": "a0bd8a04-27a5-4e01-92d4-a6411d6a7f8d",
   "metadata": {},
   "outputs": [],
   "source": [
    "import pandas as pd\n",
    "\n",
    "connections = pd.read_csv(\"data/connections.csv\", delimiter='\\t')\n",
    "devices = pd.read_csv(\"data/devices.csv\", delimiter='\\t')\n",
    "processes = pd.read_csv(\"data/processes.csv\", delimiter='\\t')\n",
    "profiles = pd.read_csv(\"data/profiles.csv\", delimiter='\\t')"
   ]
  },
  {
   "cell_type": "markdown",
   "id": "331f358c-8572-4ad3-b469-5c998dd18adf",
   "metadata": {},
   "source": [
    "## 1 Phase I"
   ]
  },
  {
   "cell_type": "markdown",
   "id": "1ce86e89-d994-4871-b767-205fad5bbfe5",
   "metadata": {},
   "source": [
    "### 1.1 Basic Data Description and Characteristics"
   ]
  },
  {
   "cell_type": "markdown",
   "id": "73fa788e-283f-4358-bdc3-d7ac22c7df42",
   "metadata": {},
   "source": [
    "#### 1.1.1 Data Structure Analysis"
   ]
  },
  {
   "cell_type": "code",
   "execution_count": null,
   "id": "8a237fbb-03dd-4ce5-919a-038ff47b8033",
   "metadata": {},
   "outputs": [],
   "source": []
  },
  {
   "cell_type": "markdown",
   "id": "346f33c1-a4c5-4c85-9e08-572367b8a049",
   "metadata": {},
   "source": [
    "#### 1.1.2 Individual Attribute Analysis"
   ]
  },
  {
   "cell_type": "code",
   "execution_count": null,
   "id": "d47bd7d9-bf71-4e10-bd12-d75b1425ca6b",
   "metadata": {},
   "outputs": [],
   "source": []
  },
  {
   "cell_type": "markdown",
   "id": "0f3cccdc-47e6-44d5-8e58-24aa58f2ccda",
   "metadata": {},
   "source": [
    "#### 1.1.3 Paired Data Analysis - Relationships and Dependencies Between Attribute Pairs Identification"
   ]
  },
  {
   "cell_type": "code",
   "execution_count": null,
   "id": "46e44821-7707-4b23-a91a-805d43d07f54",
   "metadata": {},
   "outputs": [],
   "source": []
  },
  {
   "cell_type": "markdown",
   "id": "9c1c50c3-d9f7-41d0-a09b-49344b24fdba",
   "metadata": {},
   "source": [
    "#### 1.1.4 Paired Data Analysis - Potential Predictors"
   ]
  },
  {
   "cell_type": "code",
   "execution_count": null,
   "id": "3a647a79-7033-4153-8a7a-752a9478cacc",
   "metadata": {},
   "outputs": [],
   "source": []
  },
  {
   "cell_type": "markdown",
   "id": "4db284ce-cb1d-4e04-8ea3-d147459b58de",
   "metadata": {},
   "source": [
    "### 1.2 Problem Identification, Data Integration and Cleaning"
   ]
  },
  {
   "cell_type": "markdown",
   "id": "7494a562-b996-4fc9-b2fc-f98443393294",
   "metadata": {},
   "source": [
    "#### 1.2.1 Data Problems Identification and Solving"
   ]
  },
  {
   "cell_type": "code",
   "execution_count": null,
   "id": "2b6e44c3-b206-4db8-bde0-8308153c5d2f",
   "metadata": {},
   "outputs": [],
   "source": []
  },
  {
   "cell_type": "markdown",
   "id": "a48c7143-f7af-4310-9ce4-f3e4083703a0",
   "metadata": {},
   "source": [
    "#### 1.2.2 Missing Values Solving"
   ]
  },
  {
   "cell_type": "code",
   "execution_count": null,
   "id": "2621a5c3-02dd-45c0-b6c4-1969d6a28e47",
   "metadata": {},
   "outputs": [],
   "source": []
  },
  {
   "cell_type": "markdown",
   "id": "9f5389a5-eda4-4780-b6e9-affcd3ca6e97",
   "metadata": {},
   "source": [
    "#### 1.2.3 Outlier Detection"
   ]
  },
  {
   "cell_type": "code",
   "execution_count": null,
   "id": "2f0ab549-eb35-43e0-bc16-0a8e22658d20",
   "metadata": {},
   "outputs": [],
   "source": []
  },
  {
   "cell_type": "markdown",
   "id": "786f5280-55ae-4029-8c68-bfa9f3cff069",
   "metadata": {},
   "source": [
    "### 1.3 Formulation and Statistical Verification of Hypotheses"
   ]
  },
  {
   "cell_type": "markdown",
   "id": "62f1fe19-311a-4c9a-bddf-adf82ec41c1c",
   "metadata": {},
   "source": [
    "#### 1.3.1 Hypotheses"
   ]
  },
  {
   "cell_type": "markdown",
   "id": "40955aee-28e7-4870-8c67-a94d42388636",
   "metadata": {},
   "source": [
    "##### 1.3.1.1 Hypothesis I"
   ]
  },
  {
   "cell_type": "code",
   "execution_count": null,
   "id": "baaf97a6-c885-4624-ac41-f7729493dbf8",
   "metadata": {},
   "outputs": [],
   "source": []
  },
  {
   "cell_type": "markdown",
   "id": "499d361a-ea97-4335-a558-168902fe1194",
   "metadata": {},
   "source": [
    "##### 1.3.1.2 Hypothesis II"
   ]
  },
  {
   "cell_type": "code",
   "execution_count": null,
   "id": "a13b089d-1bb0-43ac-aaf5-7f8273fe4a9e",
   "metadata": {},
   "outputs": [],
   "source": []
  },
  {
   "cell_type": "markdown",
   "id": "3171ab97-6d00-4008-a39a-050b23413bc9",
   "metadata": {},
   "source": [
    "#### 1.3.2 Statistical Power (Data Support) of the Tests Check"
   ]
  },
  {
   "cell_type": "code",
   "execution_count": null,
   "id": "4d47b868-d388-4c3e-a73f-ab381053c7fa",
   "metadata": {},
   "outputs": [],
   "source": []
  }
 ],
 "metadata": {
  "kernelspec": {
   "display_name": "Python 3 (ipykernel)",
   "language": "python",
   "name": "python3"
  },
  "language_info": {
   "codemirror_mode": {
    "name": "ipython",
    "version": 3
   },
   "file_extension": ".py",
   "mimetype": "text/x-python",
   "name": "python",
   "nbconvert_exporter": "python",
   "pygments_lexer": "ipython3",
   "version": "3.12.2"
  }
 },
 "nbformat": 4,
 "nbformat_minor": 5
}
